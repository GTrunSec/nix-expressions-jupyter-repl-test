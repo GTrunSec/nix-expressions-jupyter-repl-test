{
 "cells": [
  {
   "cell_type": "markdown",
   "metadata": {},
   "source": [
    "# Value types\n",
    "Nix 2.0 contains a command named nix repl which is a simple command line tool for playing with the Nix language. In fact, Nix is a pure, lazy, functional language, not only a set of tools to manage derivations. The nix repl syntax is slightly different to Nix syntax when it comes to assigning variables, but it shouldn't be confusing so long as you bear it in mind. I prefer to start with nix repl before cluttering your mind with more complex expressions.\n",
    "\n",
    "Launch nix repl. First of all, Nix supports basic arithmetic operations: +, -, * and /. (To exit nix repl, use the command :q. Help is available through the :? command.)"
   ]
  },
  {
   "cell_type": "code",
   "execution_count": 1,
   "metadata": {},
   "outputs": [
    {
     "name": "stdout",
     "output_type": "stream",
     "text": [
      "1+3\n",
      "\u001b[36m4\u001b[0m\n",
      "\n",
      "7-4\n",
      "\u001b[36m3\u001b[0m\n",
      "\n",
      "3*2\n",
      "\u001b[36m6\u001b[0m\n",
      "\n"
     ]
    }
   ],
   "source": [
    "1+3\n",
    "7-4\n",
    "3*2"
   ]
  },
  {
   "cell_type": "markdown",
   "metadata": {},
   "source": [
    "Attempting to perform division in Nix can lead to some surprises."
   ]
  },
  {
   "cell_type": "code",
   "execution_count": 2,
   "metadata": {},
   "outputs": [
    {
     "name": "stdout",
     "output_type": "stream",
     "text": [
      "6.3\n",
      "6.3\n",
      "\n"
     ]
    }
   ],
   "source": [
    "6.3"
   ]
  },
  {
   "cell_type": "markdown",
   "metadata": {},
   "source": [
    "What happened? Recall that Nix is not a general purpose language, it's a domain-specific language for writing packages. Integer division isn't actually that useful when writing package expressions. Nix parsed 6/3 as a relative path to the current directory. To get Nix to perform division instead, leave a space after the /. Alternatively, you can use builtins.div."
   ]
  },
  {
   "cell_type": "code",
   "execution_count": 3,
   "metadata": {},
   "outputs": [
    {
     "name": "stdout",
     "output_type": "stream",
     "text": [
      "6/ 3\n",
      "\u001b[36m2\u001b[0m\n",
      "\n"
     ]
    }
   ],
   "source": [
    "6/ 3"
   ]
  },
  {
   "cell_type": "code",
   "execution_count": 4,
   "metadata": {},
   "outputs": [
    {
     "name": "stdout",
     "output_type": "stream",
     "text": [
      "builtins.div 6 3\n",
      "\u001b[36m2\u001b[0m\n",
      "\n"
     ]
    }
   ],
   "source": [
    "builtins.div 6 3"
   ]
  },
  {
   "cell_type": "markdown",
   "metadata": {},
   "source": [
    "Other operators are ||, && and ! for booleans, and relational operators such as !=, ==, <, >, <=, >=. In Nix, <, >, <= and >= are not much used. There are also other operators we will see in the course of this series.\n",
    "\n",
    "Nix has integer, floating point, string, path, boolean and null simple types. Then there are also lists, sets and functions. These types are enough to build an operating system.\n",
    "\n",
    "Nix is strongly typed, but it's not statically typed. That is, you cannot mix strings and integers, you must first do the conversion.\n",
    "\n",
    "As demonstrated above, expressions will be parsed as paths as long as there's a slash not followed by a space. Therefore to specify the current directory, use ./. In addition, Nix also parses urls specially.\n",
    "\n",
    "Not all urls or paths can be parsed this way. If a syntax error occurs, it's still possible to fallback to plain strings. Literal urls and paths are convenient for additional safety."
   ]
  },
  {
   "cell_type": "markdown",
   "metadata": {},
   "source": [
    "# Identifier\n",
    "There's not much to say here, except that dash (-) is allowed in identifiers. That's convenient since many packages use dash in their names. In fact:"
   ]
  },
  {
   "cell_type": "code",
   "execution_count": 5,
   "metadata": {},
   "outputs": [
    {
     "name": "stdout",
     "output_type": "stream",
     "text": [
      "a-b\n",
      "\u001b[K\u001b[31;1merror:\u001b[0m undefined variable 'a-b' at \u001b[1m(string)\u001b[0m:1:1\u001b[0m\n",
      "\u001b[K\n"
     ]
    }
   ],
   "source": [
    "a-b"
   ]
  },
  {
   "cell_type": "code",
   "execution_count": 6,
   "metadata": {},
   "outputs": [
    {
     "name": "stdout",
     "output_type": "stream",
     "text": [
      "a - b\n",
      "\u001b[K\u001b[31;1merror:\u001b[0m undefined variable 'a' at \u001b[1m(string)\u001b[0m:1:1\u001b[0m\n",
      "\u001b[K\n"
     ]
    }
   ],
   "source": [
    "a - b"
   ]
  },
  {
   "cell_type": "markdown",
   "metadata": {},
   "source": [
    "As you can see, a-b is parsed as identifier, not as a subtraction."
   ]
  },
  {
   "cell_type": "markdown",
   "metadata": {},
   "source": [
    "# Strings\n",
    "It's important to understand the syntax for strings. When learning to read Nix expressions, you may find dollars ($) ambiguous, but they are very important . Strings are enclosed by double quotes (\"), or two single quotes ('')."
   ]
  },
  {
   "cell_type": "code",
   "execution_count": 7,
   "metadata": {},
   "outputs": [
    {
     "name": "stdout",
     "output_type": "stream",
     "text": [
      "\"foo\"\n",
      "\u001b[33m\"foo\"\u001b[0m\n",
      "\n"
     ]
    }
   ],
   "source": [
    "\"foo\""
   ]
  },
  {
   "cell_type": "code",
   "execution_count": 8,
   "metadata": {},
   "outputs": [
    {
     "name": "stdout",
     "output_type": "stream",
     "text": [
      "''foo''\n",
      "\u001b[33m\"foo\"\u001b[0m\n",
      "\n"
     ]
    }
   ],
   "source": [
    "''foo''"
   ]
  },
  {
   "cell_type": "markdown",
   "metadata": {},
   "source": [
    "In other languages like Python you can also use single quotes for strings (e.g. 'foo'), but not in Nix.\n",
    "\n",
    "It's possible to interpolate whole Nix expressions inside strings with the ${...} syntax and only that syntax, not $foo or {$foo} or anything else."
   ]
  },
  {
   "cell_type": "code",
   "execution_count": 9,
   "metadata": {},
   "outputs": [
    {
     "name": "stdout",
     "output_type": "stream",
     "text": [
      "foo = \"strval\"\n",
      "\n"
     ]
    }
   ],
   "source": [
    "foo = \"strval\""
   ]
  },
  {
   "cell_type": "code",
   "execution_count": 10,
   "metadata": {},
   "outputs": [
    {
     "name": "stdout",
     "output_type": "stream",
     "text": [
      "\"$foo\"\n",
      "\u001b[33m\"$foo\"\u001b[0m\n",
      "\n"
     ]
    }
   ],
   "source": [
    "\"$foo\""
   ]
  },
  {
   "cell_type": "code",
   "execution_count": 11,
   "metadata": {},
   "outputs": [
    {
     "name": "stdout",
     "output_type": "stream",
     "text": [
      "\"${foo}\"\n",
      "\u001b[33m\"strval\"\u001b[0m\n",
      "\n"
     ]
    }
   ],
   "source": [
    "\"${foo}\""
   ]
  },
  {
   "cell_type": "code",
   "execution_count": 12,
   "metadata": {},
   "outputs": [
    {
     "name": "stdout",
     "output_type": "stream",
     "text": [
      "\"${2+3}\"\n",
      "\u001b[K\u001b[31;1merror:\u001b[0m cannot coerce an integer to a string, at \u001b[1m(string)\u001b[0m:1:2\u001b[0m\n",
      "\u001b[K\n"
     ]
    }
   ],
   "source": [
    "\"${2+3}\""
   ]
  },
  {
   "cell_type": "markdown",
   "metadata": {},
   "source": [
    "Note: ignore the foo = \"strval\" assignment, special syntax in nix repl.\n",
    "\n",
    "As said previously, you cannot mix integers and strings. You need to explicitly include conversions. We'll see this later: function calls are another story.\n",
    "\n",
    "Using the syntax with two single quotes is useful for writing double quotes inside strings without needing to escape them:"
   ]
  },
  {
   "cell_type": "code",
   "execution_count": 13,
   "metadata": {},
   "outputs": [
    {
     "name": "stdout",
     "output_type": "stream",
     "text": [
      "''test \" test''\n",
      "\u001b[33m\"test \\\" test\"\u001b[0m\n",
      "\n"
     ]
    }
   ],
   "source": [
    "''test \" test''"
   ]
  },
  {
   "cell_type": "code",
   "execution_count": 14,
   "metadata": {},
   "outputs": [
    {
     "name": "stdout",
     "output_type": "stream",
     "text": [
      "''${foo}''\n",
      "\u001b[33m\"strval\"\u001b[0m\n",
      "\n"
     ]
    }
   ],
   "source": [
    "''${foo}''"
   ]
  },
  {
   "cell_type": "markdown",
   "metadata": {},
   "source": [
    "Escaping ${...} within double quoted strings is done with the backslash. Within two single quotes, it's done with '':"
   ]
  },
  {
   "cell_type": "code",
   "execution_count": 15,
   "metadata": {},
   "outputs": [
    {
     "name": "stdout",
     "output_type": "stream",
     "text": [
      "\"\\${foo}\"\n",
      "\u001b[33m\"${foo}\"\u001b[0m\n",
      "\n"
     ]
    }
   ],
   "source": [
    "\"\\${foo}\""
   ]
  },
  {
   "cell_type": "code",
   "execution_count": 16,
   "metadata": {},
   "outputs": [
    {
     "name": "stdout",
     "output_type": "stream",
     "text": [
      "''test ''${foo} test''\n",
      "\u001b[33m\"test ${foo} test\"\u001b[0m\n",
      "\n"
     ]
    }
   ],
   "source": [
    "''test ''${foo} test''"
   ]
  },
  {
   "cell_type": "markdown",
   "metadata": {},
   "source": [
    "# Lists\n",
    "Lists are a sequence of expressions delimited by space (not comma):"
   ]
  },
  {
   "cell_type": "code",
   "execution_count": 17,
   "metadata": {},
   "outputs": [
    {
     "name": "stdout",
     "output_type": "stream",
     "text": [
      "[ 2 \"foo\" true (2+3) ]\n",
      "[ \u001b[36m2\u001b[0m \u001b[33m\"foo\"\u001b[0m \u001b[36mtrue\u001b[0m \u001b[36m5\u001b[0m ]\n",
      "\n"
     ]
    }
   ],
   "source": [
    "[ 2 \"foo\" true (2+3) ]"
   ]
  },
  {
   "cell_type": "markdown",
   "metadata": {},
   "source": [
    "Lists, like everything else in Nix, are immutable. Adding or removing elements from a list is possible, but will return a new list."
   ]
  },
  {
   "cell_type": "markdown",
   "metadata": {},
   "source": [
    "# Attribute sets\n",
    "Attribute sets are an association between string keys and a Nix values. Keys can only be strings. When writing attribute sets you can also use unquoted identifiers as keys."
   ]
  },
  {
   "cell_type": "code",
   "execution_count": 18,
   "metadata": {},
   "outputs": [
    {
     "name": "stdout",
     "output_type": "stream",
     "text": [
      "s = { foo = \"bar\"; a-b = \"baz\"; \"123\" = \"num\"; }\n",
      "\n",
      "s\n",
      "{ \"123\" = \u001b[33m\"num\"\u001b[0m; a-b = \u001b[33m\"baz\"\u001b[0m; foo = \u001b[33m\"bar\"\u001b[0m; }\n",
      "\n"
     ]
    }
   ],
   "source": [
    "s = { foo = \"bar\"; a-b = \"baz\"; \"123\" = \"num\"; }\n",
    "s"
   ]
  },
  {
   "cell_type": "markdown",
   "metadata": {},
   "source": [
    "For those reading Nix expressions from nixpkgs: do not confuse attribute sets with argument sets used in functions.\n",
    "\n",
    "To access elements in the attribute set:"
   ]
  },
  {
   "cell_type": "code",
   "execution_count": 19,
   "metadata": {},
   "outputs": [
    {
     "name": "stdout",
     "output_type": "stream",
     "text": [
      "s.a-b\n",
      "\u001b[33m\"baz\"\u001b[0m\n",
      "\n",
      "s.\"123\"\n",
      "\u001b[33m\"num\"\u001b[0m\n",
      "\n"
     ]
    }
   ],
   "source": [
    "s.a-b\n",
    "s.\"123\""
   ]
  },
  {
   "cell_type": "markdown",
   "metadata": {},
   "source": [
    "Yes, you can use strings to address keys which aren't valid identifiers.\n",
    "\n",
    "Inside an attribute set you cannot normally refer to elements of the same attribute set:"
   ]
  },
  {
   "cell_type": "code",
   "execution_count": 20,
   "metadata": {},
   "outputs": [
    {
     "name": "stdout",
     "output_type": "stream",
     "text": [
      "{ a = 3; b = a+4; }\n",
      "\u001b[K\u001b[31;1merror:\u001b[0m undefined variable 'a' at \u001b[1m(string)\u001b[0m:1:14\u001b[0m\n",
      "\u001b[K\n"
     ]
    }
   ],
   "source": [
    "{ a = 3; b = a+4; }"
   ]
  },
  {
   "cell_type": "markdown",
   "metadata": {},
   "source": [
    "To do so, use recursive attribute sets:"
   ]
  },
  {
   "cell_type": "code",
   "execution_count": 21,
   "metadata": {},
   "outputs": [
    {
     "name": "stdout",
     "output_type": "stream",
     "text": [
      "rec { a = 3; b = a+4; }\n",
      "{ a = \u001b[36m3\u001b[0m; b = \u001b[36m7\u001b[0m; }\n",
      "\n"
     ]
    }
   ],
   "source": [
    "rec { a = 3; b = a+4; }"
   ]
  },
  {
   "cell_type": "markdown",
   "metadata": {},
   "source": [
    "This is very convenient when defining packages, which tend to be recursive attribute sets."
   ]
  },
  {
   "cell_type": "markdown",
   "metadata": {},
   "source": [
    "# Let expressions\n",
    "This kind of expression is used to define local variables for inner expressions."
   ]
  },
  {
   "cell_type": "code",
   "execution_count": 22,
   "metadata": {},
   "outputs": [
    {
     "name": "stdout",
     "output_type": "stream",
     "text": [
      "let a = \"foo\"; in a\n",
      "\u001b[33m\"foo\"\u001b[0m\n",
      "\n"
     ]
    }
   ],
   "source": [
    "let a = \"foo\"; in a"
   ]
  },
  {
   "cell_type": "markdown",
   "metadata": {},
   "source": [
    "Let's write two let expressions, one inside the other:"
   ]
  },
  {
   "cell_type": "code",
   "execution_count": 23,
   "metadata": {},
   "outputs": [
    {
     "name": "stdout",
     "output_type": "stream",
     "text": [
      "let a = 3; b = 4; in a + b\n",
      "\u001b[36m7\u001b[0m\n",
      "\n"
     ]
    }
   ],
   "source": [
    "let a = 3; b = 4; in a + b"
   ]
  },
  {
   "cell_type": "markdown",
   "metadata": {},
   "source": [
    "With let you cannot assign twice to the same variable. However, you can shadow outer variables:m"
   ]
  },
  {
   "cell_type": "code",
   "execution_count": 24,
   "metadata": {},
   "outputs": [
    {
     "name": "stdout",
     "output_type": "stream",
     "text": [
      "let a = 3; a = 8; in a\n",
      "\u001b[K\u001b[31;1merror:\u001b[0m attribute 'a' at \u001b[1m(string)\u001b[0m:1:12 already defined at \u001b[1m(string)\u001b[0m:1:5\u001b[0m\n",
      "\u001b[K\n",
      "let a = 3; in let a = 8; in a\n",
      "\u001b[36m8\u001b[0m\n",
      "\n"
     ]
    }
   ],
   "source": [
    "let a = 3; a = 8; in a\n",
    "let a = 3; in let a = 8; in a"
   ]
  },
  {
   "cell_type": "markdown",
   "metadata": {},
   "source": [
    "You cannot refer to variables in a let expression outside of it:"
   ]
  },
  {
   "cell_type": "code",
   "execution_count": 25,
   "metadata": {},
   "outputs": [
    {
     "name": "stdout",
     "output_type": "stream",
     "text": [
      "let a = (let b = 3; in b); in b\n",
      "\u001b[K\u001b[31;1merror:\u001b[0m undefined variable 'b' at \u001b[1m(string)\u001b[0m:1:31\u001b[0m\n",
      "\u001b[K\n"
     ]
    }
   ],
   "source": [
    "let a = (let b = 3; in b); in b"
   ]
  },
  {
   "cell_type": "markdown",
   "metadata": {},
   "source": [
    "You can refer to variables in the let expression when assigning variables, like with recursive attribute sets:"
   ]
  },
  {
   "cell_type": "code",
   "execution_count": 26,
   "metadata": {},
   "outputs": [
    {
     "name": "stdout",
     "output_type": "stream",
     "text": [
      "let a = 4; b = a + 5; in b\n",
      "\u001b[36m9\u001b[0m\n",
      "\n"
     ]
    }
   ],
   "source": [
    "let a = 4; b = a + 5; in b"
   ]
  },
  {
   "cell_type": "markdown",
   "metadata": {},
   "source": [
    "So beware when you want to refer to a variable from the outer scope, but it's also defined in the current let expression. The same applies to recursive attribute sets."
   ]
  },
  {
   "cell_type": "markdown",
   "metadata": {},
   "source": [
    "# With expression\n",
    "This kind of expression is something you rarely see in other languages. You can think of it like a more granular version of using from C++, or from module import * from Python. You decide per-expression when to include symbols into the scope."
   ]
  },
  {
   "cell_type": "code",
   "execution_count": 27,
   "metadata": {},
   "outputs": [
    {
     "name": "stdout",
     "output_type": "stream",
     "text": [
      "longName = { a = 3; b = 4; }\n",
      "\n",
      "longName.a + longName.b\n",
      "\u001b[36m7\u001b[0m\n",
      "\n"
     ]
    }
   ],
   "source": [
    "longName = { a = 3; b = 4; }\n",
    "longName.a + longName.b"
   ]
  },
  {
   "cell_type": "code",
   "execution_count": 28,
   "metadata": {},
   "outputs": [
    {
     "name": "stdout",
     "output_type": "stream",
     "text": [
      " with longName; a + b\n",
      "\u001b[36m7\u001b[0m\n",
      "\n"
     ]
    }
   ],
   "source": [
    " with longName; a + b"
   ]
  },
  {
   "cell_type": "markdown",
   "metadata": {},
   "source": [
    "That's it, it takes an attribute set and includes symbols from it in the scope of the inner expression. Of course, only valid identifiers from the keys of the set will be included. If a symbol exists in the outer scope and would also be introduced by the with, it will not be shadowed. You can however still refer to the attribute set:"
   ]
  },
  {
   "cell_type": "code",
   "execution_count": 29,
   "metadata": {},
   "outputs": [
    {
     "name": "stdout",
     "output_type": "stream",
     "text": [
      "let a = 10; in with longName; a + b\n",
      "\u001b[36m14\u001b[0m\n",
      "\n"
     ]
    }
   ],
   "source": [
    "let a = 10; in with longName; a + b"
   ]
  },
  {
   "cell_type": "code",
   "execution_count": 30,
   "metadata": {},
   "outputs": [
    {
     "name": "stdout",
     "output_type": "stream",
     "text": [
      "let a = 10; in with longName; longName.a + b\n",
      "\u001b[36m7\u001b[0m\n",
      "\n"
     ]
    }
   ],
   "source": [
    "let a = 10; in with longName; longName.a + b"
   ]
  },
  {
   "cell_type": "markdown",
   "metadata": {},
   "source": [
    "# Laziness\n",
    "Nix evaluates expression only when needed. This is a great feature when working with package"
   ]
  },
  {
   "cell_type": "code",
   "execution_count": 31,
   "metadata": {},
   "outputs": [
    {
     "name": "stdout",
     "output_type": "stream",
     "text": [
      "let a = builtins.div 4 0; b = 6; in b\n",
      "\u001b[36m6\u001b[0m\n",
      "\n"
     ]
    }
   ],
   "source": [
    "let a = builtins.div 4 0; b = 6; in b"
   ]
  },
  {
   "cell_type": "markdown",
   "metadata": {},
   "source": [
    "Since a is not needed, there's no error about division by zero, because the expression is not in need to be evaluated. That's why we can have all the packages defined on demand, yet have access to specific packages very quickly."
   ]
  }
 ],
 "metadata": {
  "kernelspec": {
   "display_name": "Nix - nix-kernel",
   "language": "Nix",
   "name": "inix_nix-kernel"
  },
  "language_info": {
   "file_extension": ".nix",
   "mimetype": "text/nix",
   "name": "nix"
  }
 },
 "nbformat": 4,
 "nbformat_minor": 4
}
